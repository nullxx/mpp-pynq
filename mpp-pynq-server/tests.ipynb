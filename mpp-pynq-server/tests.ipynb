{
 "cells": [
  {
   "cell_type": "code",
   "execution_count": 30,
   "id": "79c01ab2",
   "metadata": {
    "extensions": {
     "jupyter_dashboards": {
      "version": 1,
      "views": {
       "default_view": {
        "hidden": true
       }
      }
     }
    },
    "scrolled": true
   },
   "outputs": [],
   "source": [
    "from pynq import Overlay, PL"
   ]
  },
  {
   "cell_type": "code",
   "execution_count": 31,
   "id": "5b2c2323",
   "metadata": {},
   "outputs": [],
   "source": [
    "import time"
   ]
  },
  {
   "cell_type": "code",
   "execution_count": 32,
   "id": "94138828",
   "metadata": {
    "extensions": {
     "jupyter_dashboards": {
      "version": 1,
      "views": {
       "default_view": {
        "hidden": true
       }
      }
     }
    }
   },
   "outputs": [],
   "source": [
    "PL.reset()"
   ]
  },
  {
   "cell_type": "code",
   "execution_count": 33,
   "id": "a03f6d76",
   "metadata": {
    "extensions": {
     "jupyter_dashboards": {
      "version": 1,
      "views": {
       "default_view": {
        "hidden": true
       }
      }
     }
    }
   },
   "outputs": [],
   "source": [
    "filename = \"archived/mpp.bit\""
   ]
  },
  {
   "cell_type": "code",
   "execution_count": 34,
   "id": "ab74d905",
   "metadata": {
    "extensions": {
     "jupyter_dashboards": {
      "version": 1,
      "views": {
       "default_view": {
        "col": 0,
        "height": 2,
        "row": 6,
        "width": 12
       }
      }
     }
    }
   },
   "outputs": [
    {
     "data": {
      "text/plain": [
       "'archived/mpp.bit'"
      ]
     },
     "execution_count": 34,
     "metadata": {},
     "output_type": "execute_result"
    }
   ],
   "source": [
    "filename"
   ]
  },
  {
   "cell_type": "code",
   "execution_count": 35,
   "id": "a4c97948",
   "metadata": {
    "extensions": {
     "jupyter_dashboards": {
      "version": 1,
      "views": {
       "default_view": {
        "hidden": true
       }
      }
     }
    }
   },
   "outputs": [],
   "source": [
    "base = Overlay(filename, download=True) # bitstream implicitly downloaded to PL"
   ]
  },
  {
   "cell_type": "code",
   "execution_count": 36,
   "id": "30237b61",
   "metadata": {},
   "outputs": [],
   "source": [
    "def build_register(signal_defaults, default_values=None, **kwargs):\n",
    "    if default_values is None:\n",
    "        default_values = {}\n",
    "\n",
    "    for arg in kwargs:\n",
    "        if arg not in signal_defaults:\n",
    "            raise ValueError(f\"Invalid signal name: {arg}\")\n",
    "\n",
    "    register = 0\n",
    "\n",
    "    for signal, (low_bit, high_bit) in signal_defaults.items():\n",
    "        value = kwargs.get(signal, default_values.get(signal, 0))\n",
    "        mask = (1 << (high_bit - low_bit + 1)) - 1\n",
    "        value = (value & mask) << low_bit\n",
    "        register |= value\n",
    "\n",
    "    return register\n",
    "\n",
    "\n",
    "def get_reg0(**kwargs):\n",
    "    signal_defaults = {\n",
    "        \"flbus\": (0, 0),\n",
    "        \"pchbus\": (1, 1),\n",
    "        \"pclbus\": (2, 2),\n",
    "        \"acbus\": (3, 3),\n",
    "        \"accar\": (4, 4),\n",
    "        \"albus\": (5, 5),\n",
    "        \"selalu\": (6, 8),\n",
    "        \"hcar\": (9, 9),\n",
    "        \"lcar\": (10, 10),\n",
    "        \"op2car\": (11, 11),\n",
    "        \"spcar\": (12, 12),\n",
    "        \"pccar\": (13, 13),\n",
    "        \"pchcar\": (14, 14),\n",
    "        \"pclcar\": (15, 15),\n",
    "        \"seldir\": (16, 17),\n",
    "        \"id_\": (18, 19),\n",
    "        \"membus\": (20, 20),\n",
    "        \"le\": (21, 21),\n",
    "        \"mxreg\": (22, 23),\n",
    "        \"regcar\": (24, 24),\n",
    "        \"regbus\": (25, 25),\n",
    "        \"selfl\": (26, 26),\n",
    "        \"flcar\": (27, 27),\n",
    "        \"cop10\": (28, 29),\n",
    "        \"cop32\": (30, 31),\n",
    "    }\n",
    "    default_values = {\"le\": 1}\n",
    "    return build_register(signal_defaults, default_values, **kwargs)\n",
    "\n",
    "\n",
    "def get_reg1(**kwargs):\n",
    "    signal_defaults = {\"drive_control\": (0, 0)}\n",
    "    return build_register(signal_defaults, **kwargs)\n",
    "\n",
    "\n",
    "def get_reg2(**kwargs):\n",
    "    signal_defaults = {\"mclk\": (0, 0)}\n",
    "    return build_register(signal_defaults, **kwargs)\n",
    "\n",
    "\n",
    "def get_reg3(**kwargs):\n",
    "    signal_defaults = {\n",
    "        \"lload\": (0, 0),\n",
    "        \"data_bus_lload\": (1, 8),\n",
    "        \"readmemclk\": (9, 9),\n",
    "        \"readmem_offset\": (10, 25),\n",
    "    }\n",
    "    return build_register(signal_defaults, **kwargs)\n"
   ]
  },
  {
   "cell_type": "code",
   "execution_count": 37,
   "id": "2ccacc40",
   "metadata": {},
   "outputs": [],
   "source": [
    "def write_reg(reg_num, data):\n",
    "    base.get_mclk_0.mmio.write(reg_num * 4, data)"
   ]
  },
  {
   "cell_type": "code",
   "execution_count": 38,
   "id": "83f4a151",
   "metadata": {},
   "outputs": [],
   "source": [
    "def read_reg(reg_num):\n",
    "    return base.linker_0.mmio.read(reg_num * 4)"
   ]
  },
  {
   "cell_type": "code",
   "execution_count": 39,
   "id": "4354bf50",
   "metadata": {},
   "outputs": [],
   "source": [
    "def reset_reg(reg_num):\n",
    "    reg = 0\n",
    "    # get the default values!!\n",
    "    if (reg_num == 0):\n",
    "        reg = get_reg0()\n",
    "    elif (reg_num == 1):\n",
    "        reg = get_reg1()\n",
    "    elif (reg_num == 2):\n",
    "        reg = get_reg2()\n",
    "    elif (reg_num == 3):\n",
    "        reg = get_reg3()\n",
    "\n",
    "    write_reg(reg_num, reg)"
   ]
  },
  {
   "cell_type": "code",
   "execution_count": 40,
   "id": "ecc0a8bb",
   "metadata": {},
   "outputs": [],
   "source": [
    "def reset(with_control=True):\n",
    "    reset_reg(0)\n",
    "    reset_reg(1)\n",
    "    reset_reg(2)\n",
    "    reset_reg(3)\n",
    "    write_reg(1, get_reg1(drive_control=(1 if with_control else 0)))"
   ]
  },
  {
   "cell_type": "code",
   "execution_count": 41,
   "id": "d10e6b22",
   "metadata": {},
   "outputs": [],
   "source": [
    "PC_REG_OFFSET = 0\n",
    "DATA_BUS_REG_OFFSET = 1\n",
    "DIR_BUS_REG_OFFSET = 2\n",
    "ACUM_REG_OFFSET = 3\n",
    "OP2_REG_OFFSET = 4\n",
    "SP_REG_OFFSET = 5\n",
    "H_REG_OFFSET = 6\n",
    "L_REG_OFFSET = 7\n",
    "RI_REG_OFFSET = 8\n",
    "STATE_REG_OFFSET = 9\n",
    "NEXT_STATE_REG_OFFSET = 10\n",
    "MEM_VALUE_READED_REG_OFFSET = 11\n",
    "MXDIR_OUT_REG_OFFSET = 12\n",
    "RB_REG_OFFSET = 13\n",
    "RC_REG_OFFSET = 14\n",
    "RD_REG_OFFSET = 15\n",
    "RE_REG_OFFSET = 16\n",
    "ALU_OUT_REG_OFFSET = 17\n",
    "FZ_REG_OFFSET = 18\n",
    "FC_REG_OFFSET = 19"
   ]
  },
  {
   "cell_type": "code",
   "execution_count": 42,
   "id": "b6e78c8f",
   "metadata": {},
   "outputs": [],
   "source": [
    "def write_to_mem(offset, value, debug=False):\n",
    "    if (debug):\n",
    "        print(f\"Writting to {hex(offset)} value {hex(value)}\")\n",
    "    l = offset & 0xFF  # Mask all but the last 8 bits\n",
    "    h = (offset >> 8) & 0xFF\n",
    "\n",
    "    write_reg(3, get_reg3(lload=1, data_bus_lload=l))\n",
    "    write_reg(0, get_reg0(lcar=1))\n",
    "    write_reg(2, get_reg2(mclk=1))\n",
    "\n",
    "    reset_reg(2)\n",
    "    reset_reg(0)\n",
    "    reset_reg(3)\n",
    "    \n",
    "    write_reg(3, get_reg3(lload=1, data_bus_lload=h))\n",
    "    write_reg(0, get_reg0(hcar=1))\n",
    "    write_reg(2, get_reg2(mclk=1))\n",
    "    \n",
    "    assert(h == read_reg(H_REG_OFFSET))\n",
    "    assert(l == read_reg(L_REG_OFFSET))\n",
    "    \n",
    "    reset_reg(2)\n",
    "    reset_reg(0)\n",
    "    reset_reg(3)\n",
    "    \n",
    "    write_reg(3, get_reg3(lload=1, data_bus_lload=value))\n",
    "    assert(read_reg(DATA_BUS_REG_OFFSET) == value)\n",
    "    write_reg(0, get_reg0(le=0, seldir=0b10))\n",
    "    assert(read_reg(DIR_BUS_REG_OFFSET) == offset)\n",
    "    write_reg(2, get_reg2(mclk=1))\n",
    "    \n",
    "    reset_reg(2)\n",
    "    reset_reg(0)\n",
    "    reset_reg(3)\n",
    "    \n",
    "    return True"
   ]
  },
  {
   "cell_type": "code",
   "execution_count": 43,
   "id": "e04de931",
   "metadata": {},
   "outputs": [],
   "source": [
    "def read_mem(offset):\n",
    "    write_reg(3, get_reg3(readmem_offset=offset)) # the readmem_offset must be BEFORE clk\n",
    "    write_reg(3, get_reg3(readmem_offset=offset, readmemclk=1)) # the readmem_offset could be not present here?\n",
    "    reset_reg(3)\n",
    "\n",
    "    write_reg(3, get_reg3(readmem_offset=offset))\n",
    "    write_reg(3, get_reg3(readmem_offset=offset, readmemclk=1))\n",
    "    value = read_reg(MEM_VALUE_READED_REG_OFFSET) \n",
    " \n",
    "    reset_reg(3)\n",
    "    return value"
   ]
  },
  {
   "cell_type": "code",
   "execution_count": 44,
   "id": "96a697cb",
   "metadata": {},
   "outputs": [],
   "source": [
    "def set_pc(pc_value):\n",
    "    pcl = pc_value & 0xFF  # Mask all but the last 8 bits\n",
    "    pch = (pc_value >> 8) & 0xFF\n",
    "\n",
    "    write_reg(3, get_reg3(lload=1, data_bus_lload=pcl))\n",
    "    write_reg(0, get_reg0(pclcar=1))\n",
    "    write_reg(2, get_reg2(mclk=1))\n",
    "\n",
    "    reset_reg(2)\n",
    "    reset_reg(0)\n",
    "    reset_reg(3)\n",
    "    \n",
    "    write_reg(3, get_reg3(lload=1, data_bus_lload=pch))\n",
    "    write_reg(0, get_reg0(pchcar=1))\n",
    "    write_reg(2, get_reg2(mclk=1))\n",
    "    \n",
    "    reset_reg(2)\n",
    "    reset_reg(0)\n",
    "    reset_reg(3)"
   ]
  },
  {
   "cell_type": "code",
   "execution_count": 45,
   "id": "f464095f",
   "metadata": {},
   "outputs": [],
   "source": [
    "def print_machine_state():\n",
    "    print(f\"PC: {hex(read_reg(PC_REG_OFFSET))}\")\n",
    "    print(f\"DATA_BUS: {hex(read_reg(DATA_BUS_REG_OFFSET))}\")\n",
    "    print(f\"DIR_BUS: {hex(read_reg(DIR_BUS_REG_OFFSET))}\")\n",
    "    print(f\"ACUM: {hex(read_reg(ACUM_REG_OFFSET))}\")\n",
    "    print(f\"OP2: {hex(read_reg(OP2_REG_OFFSET))}\")\n",
    "    print(f\"SP: {hex(read_reg(SP_REG_OFFSET))}\")\n",
    "    print(f\"H: {hex(read_reg(H_REG_OFFSET))}\")\n",
    "    print(f\"L: {hex(read_reg(L_REG_OFFSET))}\")\n",
    "    print(f\"RI: {hex(read_reg(RI_REG_OFFSET))}\")\n",
    "    print(f\"STATE: {hex(read_reg(STATE_REG_OFFSET))}\")\n",
    "    print(f\"NEXT_STATE: {hex(read_reg(NEXT_STATE_REG_OFFSET))}\")\n",
    "    print(f\"MEM_VALUE_READED: {hex(read_reg(MEM_VALUE_READED_REG_OFFSET))}\")\n",
    "    print(f\"MXDIR_OUT: {hex(read_reg(MXDIR_OUT_REG_OFFSET))}\")\n",
    "    print(f\"RB: {hex(read_reg(RB_REG_OFFSET))}\")\n",
    "    print(f\"RC: {hex(read_reg(RC_REG_OFFSET))}\")\n",
    "    print(f\"RD: {hex(read_reg(RD_REG_OFFSET))}\")\n",
    "    print(f\"RE: {hex(read_reg(RE_REG_OFFSET))}\")\n",
    "    print(f\"ALU_OUT: {hex(read_reg(ALU_OUT_REG_OFFSET))}\")\n",
    "    print(f\"FZ: {hex(read_reg(FZ_REG_OFFSET))}\")\n",
    "    print(f\"FC: {hex(read_reg(FC_REG_OFFSET))}\")\n",
    "    print_mem(read_reg(MXDIR_OUT_REG_OFFSET)-5, read_reg(MXDIR_OUT_REG_OFFSET)+5)"
   ]
  },
  {
   "cell_type": "code",
   "execution_count": 46,
   "id": "1d583c44",
   "metadata": {},
   "outputs": [],
   "source": [
    "def print_mem(from_offset, to_offset):\n",
    "    print(\"|-----MEMORY-----|\")\n",
    "    print(\"------------------\")\n",
    "    print(\"| offset | value |\")\n",
    "    print(\"------------------\")\n",
    "    for i in range(to_offset - from_offset + 1):\n",
    "        print(f\"| {hex(from_offset + i)} | {hex(read_mem(from_offset + i))} |\")\n",
    "    print(\"------------------\")"
   ]
  },
  {
   "cell_type": "code",
   "execution_count": 47,
   "id": "c61ecc8d",
   "metadata": {},
   "outputs": [],
   "source": [
    "def run_cycle(print_state_after=False):\n",
    "    write_reg(2, get_reg2(mclk=1))\n",
    "    reset_reg(2)\n",
    "    if (print_state_after):\n",
    "        print_machine_state()"
   ]
  },
  {
   "cell_type": "code",
   "execution_count": 48,
   "id": "c3b29ec5",
   "metadata": {},
   "outputs": [],
   "source": [
    "def skip_cycles(until_state=0, skip_first=False):\n",
    "    limit = 10\n",
    "    skip_count = 0\n",
    "    while (True):\n",
    "        if (read_reg(STATE_REG_OFFSET) == until_state and (not skip_first or skip_count > 0)):\n",
    "            break\n",
    "        run_cycle()\n",
    "        skip_count += 1\n",
    "        if (skip_count == limit):\n",
    "            print(f\"Skipped {skip_count} times but not found state {until_state}\")\n",
    "            break"
   ]
  },
  {
   "cell_type": "code",
   "execution_count": 49,
   "id": "ccb841b1",
   "metadata": {},
   "outputs": [],
   "source": [
    "def load_program(program_bytes):\n",
    "    offset_to_write = 0x0000\n",
    "    pc_start = 0\n",
    "    \n",
    "    reset(with_control=True)\n",
    "\n",
    "    for i in range(len(program_bytes)):\n",
    "        write_to_mem(offset_to_write + i, program_bytes[i])\n",
    "        testIt(read_mem(offset_to_write + i) == program_bytes[i], f\"Wrote {hex(program_bytes[i])} to address {hex(offset_to_write + i)}\") # realmente ya esta testeado, no deberia hacer falta\n",
    "\n",
    "    set_pc(pc_start)\n",
    "\n",
    "    reset(with_control=False)\n",
    "    skip_cycles(until_state=0)  "
   ]
  },
  {
   "cell_type": "code",
   "execution_count": 50,
   "id": "b9280838",
   "metadata": {},
   "outputs": [],
   "source": [
    "# Executing modes\n",
    "\n",
    "def execute_instruction():\n",
    "    skip_cycles(until_state=0, skip_first=True)\n",
    "    \n",
    "def execute_program(print_elapsed_time=True):\n",
    "    limit = 100\n",
    "    skip_count = 0\n",
    "    fin_instruction_code = 0xFF\n",
    "    \n",
    "    elapsed_time = float('inf')\n",
    "    \n",
    "    executed_instructions = 0\n",
    "    time_start = time.time()\n",
    "    while (True):\n",
    "        if (read_reg(RI_REG_OFFSET) == fin_instruction_code):\n",
    "            elapsed_time = time.time() - time_start\n",
    "            break\n",
    "        execute_instruction()\n",
    "        executed_instructions += 1\n",
    "        if (executed_instructions == limit):\n",
    "            print(f\"Executed {executed_instructions} instructions reaching the limit. Are you sure your program had 0xFF for finalizing the execution\")\n",
    "            break\n",
    "    if (print_elapsed_time):\n",
    "        print(f\"Executed in {elapsed_time * 1000} milliseconds\")\n",
    "    return elapsed_time"
   ]
  },
  {
   "cell_type": "code",
   "execution_count": 51,
   "id": "43150379",
   "metadata": {},
   "outputs": [],
   "source": [
    "def testIt(cond, case_name=\"\"):\n",
    "    status = \"✅\" if cond else \"❌\"\n",
    "    print(f\"  - {case_name}{': ' if len(case_name) > 0 else ''}{status}\")"
   ]
  },
  {
   "cell_type": "code",
   "execution_count": 52,
   "id": "2d704af7",
   "metadata": {},
   "outputs": [
    {
     "name": "stdout",
     "output_type": "stream",
     "text": [
      "PC: 0x0\n",
      "DATA_BUS: 0x0\n",
      "DIR_BUS: 0x1\n",
      "ACUM: 0x0\n",
      "OP2: 0x0\n",
      "SP: 0x0\n",
      "H: 0x0\n",
      "L: 0x0\n",
      "RI: 0x0\n",
      "STATE: 0x0\n",
      "NEXT_STATE: 0x1\n",
      "MEM_VALUE_READED: 0x0\n",
      "MXDIR_OUT: 0x0\n",
      "RB: 0x0\n",
      "RC: 0x0\n",
      "RD: 0x0\n",
      "RE: 0x0\n",
      "ALU_OUT: 0x0\n",
      "FZ: 0x0\n",
      "FC: 0x0\n",
      "|-----MEMORY-----|\n",
      "------------------\n",
      "| offset | value |\n",
      "------------------\n",
      "| -0x5 | 0x0 |\n",
      "| -0x4 | 0x0 |\n",
      "| -0x3 | 0x0 |\n",
      "| -0x2 | 0x0 |\n",
      "| -0x1 | 0x0 |\n",
      "| 0x0 | 0x0 |\n",
      "| 0x1 | 0x0 |\n",
      "| 0x2 | 0x0 |\n",
      "| 0x3 | 0x0 |\n",
      "| 0x4 | 0x0 |\n",
      "| 0x5 | 0x0 |\n",
      "------------------\n"
     ]
    }
   ],
   "source": [
    "print_machine_state()"
   ]
  },
  {
   "cell_type": "code",
   "execution_count": 55,
   "id": "fdeb04ad",
   "metadata": {},
   "outputs": [
    {
     "name": "stdout",
     "output_type": "stream",
     "text": [
      "Test PC\n",
      "  - PC despues = PC antes + 1: ✅\n"
     ]
    }
   ],
   "source": [
    "print(\"Test PC\")\n",
    "\n",
    "reset(with_control=True)\n",
    "\n",
    "pc_antes = read_reg(PC_REG_OFFSET) # pc antes\n",
    "\n",
    "write_reg(0, get_reg0(seldir=0, id_=0b10, pccar=1))\n",
    "write_reg(2, get_reg2(mclk=1))\n",
    "\n",
    "pc_despues = read_reg(PC_REG_OFFSET) # pc despues\n",
    "reset_reg(2)\n",
    "reset_reg(0) # 0\n",
    "\n",
    "testIt(pc_despues == pc_antes+1, \"PC despues = PC antes + 1\")"
   ]
  },
  {
   "cell_type": "code",
   "execution_count": 56,
   "id": "97896ab4",
   "metadata": {},
   "outputs": [
    {
     "name": "stdout",
     "output_type": "stream",
     "text": [
      "Test 2OP\n",
      "  - Carga 2OP: ✅\n"
     ]
    }
   ],
   "source": [
    "print(\"Test 2OP\")\n",
    "\n",
    "reset(with_control=True)\n",
    "\n",
    "value = 0x54\n",
    "write_reg(3, get_reg3(lload=1, data_bus_lload=value))\n",
    "write_reg(0, get_reg0(op2car=1))\n",
    "write_reg(2, get_reg2(mclk=1))\n",
    "\n",
    "op2_value = read_reg(OP2_REG_OFFSET)\n",
    "reset_reg(2)\n",
    "reset_reg(0)\n",
    "reset_reg(3)\n",
    "\n",
    "testIt(op2_value == value, \"Carga 2OP\")"
   ]
  },
  {
   "cell_type": "code",
   "execution_count": 57,
   "id": "2189f288",
   "metadata": {
    "extensions": {
     "jupyter_dashboards": {
      "version": 1,
      "views": {
       "default_view": {
        "col": 0,
        "height": 2,
        "row": 12,
        "width": 12
       }
      }
     }
    },
    "scrolled": false
   },
   "outputs": [
    {
     "name": "stdout",
     "output_type": "stream",
     "text": [
      "Test PCL y data_bus\n",
      "  - PCL = PC(7 downto 0): ✅\n"
     ]
    }
   ],
   "source": [
    "print(\"Test PCL y data_bus\")\n",
    "\n",
    "reset(with_control=True)\n",
    "\n",
    "# ahora quiero ver el valor de pcl, el cual hay que publicar en bus de datos\n",
    "# para publicar en bus de datos\n",
    "write_reg(0, get_reg0(pclbus=1))\n",
    "data_bus_pcl = read_reg(DATA_BUS_REG_OFFSET)\n",
    "reset_reg(0)\n",
    "\n",
    "testIt(data_bus_pcl == (pc_despues & 0xFF), \"PCL = PC(7 downto 0)\")"
   ]
  },
  {
   "cell_type": "code",
   "execution_count": 58,
   "id": "942e175d",
   "metadata": {
    "extensions": {
     "jupyter_dashboards": {
      "version": 1,
      "views": {
       "default_view": {
        "hidden": true
       }
      }
     }
    }
   },
   "outputs": [
    {
     "name": "stdout",
     "output_type": "stream",
     "text": [
      "Test AC y data_bus\n",
      "  - Carga y visualización en bus datos: ✅\n"
     ]
    }
   ],
   "source": [
    "print(\"Test AC y data_bus\")\n",
    "\n",
    "reset(with_control=True)\n",
    "\n",
    "write_reg(0, get_reg0(accar=1, pclbus=1))\n",
    "data_bus_pcl_1 = read_reg(DATA_BUS_REG_OFFSET)\n",
    "\n",
    "write_reg(0, get_reg0(accar=1, pclbus=1))\n",
    "write_reg(2, get_reg2(mclk=1))\n",
    "data_bus_pcl_2 = read_reg(DATA_BUS_REG_OFFSET)\n",
    "\n",
    "reset_reg(2)\n",
    "reset_reg(0) # 0\n",
    "\n",
    "write_reg(0, get_reg0(acbus=1))\n",
    "data_bus_ac = read_reg(DATA_BUS_REG_OFFSET)\n",
    "\n",
    "reset_reg(0) # 0\n",
    "\n",
    "#print(f\"AC = {data_bus_ac}, data_bus_pcl = {data_bus_pcl}\")\n",
    "    \n",
    "\n",
    "testIt(data_bus_ac == data_bus_pcl_1 == data_bus_pcl_2, \"Carga y visualización en bus datos\")"
   ]
  },
  {
   "cell_type": "code",
   "execution_count": 59,
   "id": "fb3b63db",
   "metadata": {},
   "outputs": [
    {
     "name": "stdout",
     "output_type": "stream",
     "text": [
      "Test L\n",
      "  - Carga y visualización en bus de datos: ✅\n"
     ]
    }
   ],
   "source": [
    "print(\"Test L\")\n",
    "\n",
    "reset(with_control=True)\n",
    "\n",
    "write_reg(0, get_reg0(lcar=1, pclbus=1))\n",
    "data_bus_pcl_1 = read_reg(DATA_BUS_REG_OFFSET) \n",
    "\n",
    "write_reg(0, get_reg0(lcar=1, pclbus=1))\n",
    "write_reg(2, get_reg2(mclk=1))\n",
    "data_bus_pcl_2 = read_reg(DATA_BUS_REG_OFFSET)\n",
    "\n",
    "reset_reg(2)\n",
    "reset_reg(0)\n",
    "\n",
    "write_reg(0, get_reg0(seldir=2))\n",
    "dir_bus_hl = read_reg(DIR_BUS_REG_OFFSET)\n",
    "\n",
    "reset_reg(0)\n",
    "\n",
    "#print(f\"AC = {data_bus_ac}, data_bus_pcl = {data_bus_pcl}\")\n",
    "    \n",
    "testIt(data_bus_pcl_1 == data_bus_pcl_2 == dir_bus_hl, \"Carga y visualización en bus de datos\")"
   ]
  },
  {
   "cell_type": "code",
   "execution_count": 60,
   "id": "e931187f",
   "metadata": {},
   "outputs": [
    {
     "name": "stdout",
     "output_type": "stream",
     "text": [
      "Test GREG\n",
      "  - Carga y visualizació: ✅\n"
     ]
    }
   ],
   "source": [
    "print(\"Test GREG\")\n",
    "\n",
    "reset(with_control=True)\n",
    "\n",
    "write_reg(0, get_reg0(cop32=0b11, mxreg=0b01, regcar=1, pclbus=1))\n",
    "data_bus_pcl_1 = read_reg(DATA_BUS_REG_OFFSET) \n",
    "\n",
    "write_reg(0, get_reg0(cop32=0b11, mxreg=0b01, regcar=1, pclbus=1))\n",
    "write_reg(2, get_reg2(mclk=1))\n",
    "\n",
    "reset_reg(2)\n",
    "reset_reg(0)\n",
    "\n",
    "write_reg(0, get_reg0(cop32=0b11, mxreg=0b01, regbus=1))\n",
    "data_bus_greg = read_reg(DATA_BUS_REG_OFFSET)\n",
    "\n",
    "reset_reg(0)\n",
    "\n",
    "testIt(data_bus_pcl_1 == data_bus_greg, \"Carga y visualizació\")"
   ]
  },
  {
   "cell_type": "code",
   "execution_count": 61,
   "id": "cf0e00a3",
   "metadata": {},
   "outputs": [
    {
     "name": "stdout",
     "output_type": "stream",
     "text": [
      "Test Mem\n",
      "  - Write to mem at offset 0x0000 using data_bus: ✅\n"
     ]
    }
   ],
   "source": [
    "print(\"Test Mem\")\n",
    "\n",
    "reset(with_control=True)\n",
    "\n",
    "value_to_write = 45\n",
    "write_reg(3, get_reg3(lload=1, data_bus_lload=value_to_write))\n",
    "write_reg(0, get_reg0(le=0))\n",
    "write_reg(2, get_reg2(mclk=1))\n",
    "\n",
    "reset_reg(2)\n",
    "reset_reg(0)\n",
    "reset_reg(3)\n",
    "\n",
    "write_reg(0, get_reg0(membus=1, le=1))\n",
    "#write_reg(2, get_reg2(mclk=1)) # no hace falta del todo por el clk de la fpga\n",
    "data_bus_mem = read_reg(DATA_BUS_REG_OFFSET)\n",
    "reset_reg(2)\n",
    "reset_reg(0)\n",
    "\n",
    "\n",
    "testIt(data_bus_mem == value_to_write, \"Write to mem at offset 0x0000 using data_bus\")"
   ]
  },
  {
   "cell_type": "code",
   "execution_count": 62,
   "id": "287047f7",
   "metadata": {},
   "outputs": [
    {
     "name": "stdout",
     "output_type": "stream",
     "text": [
      "Test Mem [Background]\n",
      "  - Write to 0x1326 value 0xf1: ✅\n",
      "  - Write to 0x0 value 0xaa: ✅\n",
      "  - Write to 0xffff value 0xaa: ✅\n",
      "  - Error while writting to address out of bounds (> 0xFFFF): ✅\n",
      "  - Error while writting value > 0xFF: ✅\n"
     ]
    }
   ],
   "source": [
    "print(\"Test Mem [Background]\")\n",
    "\n",
    "reset(with_control=True)\n",
    "\n",
    "dirr = 0x1326\n",
    "value = 0xF1\n",
    "write_to_mem(dirr, value)\n",
    "\n",
    "testIt(read_mem(dirr) == value, f\"Write to {hex(dirr)} value {hex(value)}\")\n",
    "\n",
    "dirr = 0x0000\n",
    "value = 0xAA\n",
    "write_to_mem(dirr, value)\n",
    "\n",
    "testIt(read_mem(dirr) == value, f\"Write to {hex(dirr)} value {hex(value)}\")\n",
    "\n",
    "dirr = 0xFFFF\n",
    "value = 0xAA\n",
    "write_to_mem(dirr, value)\n",
    "\n",
    "testIt(read_mem(dirr) == value, f\"Write to {hex(dirr)} value {hex(value)}\")\n",
    "\n",
    "dirr = 0xFFFF+1\n",
    "value = 0xAA\n",
    "erroned = False\n",
    "try:\n",
    "    write_to_mem(dirr, value)\n",
    "except:\n",
    "    erroned = True\n",
    "\n",
    "testIt(erroned, f\"Error while writting to address out of bounds (> 0xFFFF)\")\n",
    "\n",
    "dirr = 0xABAB\n",
    "value = 0xFF+1\n",
    "erroned = False\n",
    "try:\n",
    "    write_to_mem(dirr, value)\n",
    "except:\n",
    "    erroned = True\n",
    "\n",
    "testIt(erroned, f\"Error while writting value > 0xFF\")"
   ]
  },
  {
   "cell_type": "code",
   "execution_count": 63,
   "id": "735b9ceb",
   "metadata": {},
   "outputs": [
    {
     "name": "stdout",
     "output_type": "stream",
     "text": [
      "Test MOV FA, AC\n",
      "  - Wrote 0x64 to address 0x0: ✅\n",
      "  - Wrote 0xfa to address 0x1: ✅\n",
      "  - State = 0: ✅\n",
      "  - State = 1: ✅\n",
      "  - Next state = 15: ✅\n",
      "  - PC = 1: ✅\n",
      "  - RI = 0x64: ✅\n",
      "  - State = 15: ✅\n",
      "  - Next state = 4: ✅\n",
      "  - PC = 1: ✅\n",
      "  - State = 4: ✅\n",
      "  - Next state = 0: ✅\n",
      "  - PC = 2: ✅\n",
      "  - 2OP = 0xFA: ✅\n",
      "  - State = 0: ✅\n",
      "  - AC = 0xFA: ✅\n"
     ]
    }
   ],
   "source": [
    "print(\"Test MOV FA, AC\")\n",
    "\n",
    "reset(with_control=True)\n",
    "\n",
    "mem_bytes = [0x64, 0xFA]\n",
    "offset_to_write = 0x0000\n",
    "\n",
    "for i in range(len(mem_bytes)):\n",
    "    write_to_mem(offset_to_write + i, mem_bytes[i])\n",
    "    testIt(read_mem(offset_to_write + i) == mem_bytes[i], f\"Wrote {hex(mem_bytes[i])} to address {hex(offset_to_write + i)}\") # realmente ya esta testeado, no deberia hacer falta\n",
    "\n",
    "# set PC to 0\n",
    "set_pc(0)\n",
    "\n",
    "reset(with_control=False)\n",
    "skip_cycles(until_state=0)\n",
    "\n",
    "###\n",
    "testIt(read_reg(STATE_REG_OFFSET) == 0, \"State = 0\")\n",
    "run_cycle()\n",
    "\n",
    "testIt(read_reg(STATE_REG_OFFSET) == 1, \"State = 1\") # se ha ejecutado el estado 0\n",
    "testIt(read_reg(NEXT_STATE_REG_OFFSET) == 15, \"Next state = 15\")\n",
    "testIt(read_reg(PC_REG_OFFSET) == 1, \"PC = 1\")\n",
    "testIt(read_reg(RI_REG_OFFSET) == mem_bytes[0], \"RI = 0x64\")\n",
    "###\n",
    "\n",
    "###\n",
    "run_cycle()\n",
    "\n",
    "testIt(read_reg(STATE_REG_OFFSET) == 15, \"State = 15\") # se ha ejecutado el estado 1\n",
    "testIt(read_reg(NEXT_STATE_REG_OFFSET) == 4, \"Next state = 4\")\n",
    "testIt(read_reg(PC_REG_OFFSET) == 1, \"PC = 1\")\n",
    "###\n",
    "\n",
    "###\n",
    "run_cycle()\n",
    "\n",
    "testIt(read_reg(STATE_REG_OFFSET) == 4, \"State = 4\") # se ha ejecutado el estado 15\n",
    "testIt(read_reg(NEXT_STATE_REG_OFFSET) == 0, \"Next state = 0\")\n",
    "testIt(read_reg(PC_REG_OFFSET) == 2, \"PC = 2\")\n",
    "testIt(read_reg(OP2_REG_OFFSET) == mem_bytes[1], \"2OP = 0xFA\")\n",
    "###\n",
    "\n",
    "###\n",
    "run_cycle()\n",
    "\n",
    "testIt(read_reg(STATE_REG_OFFSET) == 0, \"State = 0\") # se ha ejecutado el estado 4\n",
    "testIt(read_reg(ACUM_REG_OFFSET) == mem_bytes[1], \"AC = 0xFA\")\n",
    "###"
   ]
  },
  {
   "cell_type": "code",
   "execution_count": 64,
   "id": "d1d95841",
   "metadata": {},
   "outputs": [
    {
     "name": "stdout",
     "output_type": "stream",
     "text": [
      "Test MOV FF, RB\n",
      "  - Wrote 0x60 to address 0x0: ✅\n",
      "  - Wrote 0xff to address 0x1: ✅\n",
      "  - State = 0: ✅\n",
      "  - State = 1: ✅\n",
      "  - Next state = 15: ✅\n",
      "  - PC = 1: ✅\n",
      "  - RI = 0x64: ✅\n",
      "  - State = 15: ✅\n",
      "  - Next state = 39: ✅\n",
      "  - PC = 1: ✅\n",
      "  - State = 39: ✅\n",
      "  - Next state = 0: ✅\n",
      "  - PC = 2: ✅\n",
      "  - 2OP = 0xFA: ✅\n",
      "  - State = 0: ✅\n",
      "  - RB = 0xFA: ✅\n",
      "\n",
      "Test MOV RB, RD\n",
      "  - Wrote 0x8 to address 0x0: ✅\n",
      "  - State = 0: ✅\n",
      "  - State = 1: ✅\n",
      "  - Next state = 2: ✅\n",
      "  - PC = 1: ✅\n",
      "  - RI = 0x64: ✅\n",
      "  - State = 2: ✅\n",
      "  - Next state = 3: ✅\n",
      "  - PC = 1: ✅\n",
      "  - State = 3: ✅\n",
      "  - Next state = 0: ✅\n",
      "  - PC = 1: ✅\n",
      "  - 2OP = RB (0xff): ✅\n",
      "  - State = 0: ✅\n",
      "  - RD = RB (0xff): ✅\n"
     ]
    }
   ],
   "source": [
    "print(\"Test MOV FF, RB\")\n",
    "\n",
    "reset(with_control=True)\n",
    "\n",
    "mem_bytes = [0x60, 0xFF]\n",
    "offset_to_write = 0x0000\n",
    "\n",
    "for i in range(len(mem_bytes)):\n",
    "    write_to_mem(offset_to_write + i, mem_bytes[i])\n",
    "    testIt(read_mem(offset_to_write + i) == mem_bytes[i], f\"Wrote {hex(mem_bytes[i])} to address {hex(offset_to_write + i)}\") # realmente ya esta testeado, no deberia hacer falta\n",
    "\n",
    "# set PC to 0\n",
    "set_pc(0)\n",
    "\n",
    "reset(with_control=False)\n",
    "skip_cycles(until_state=0)\n",
    "\n",
    "###\n",
    "testIt(read_reg(STATE_REG_OFFSET) == 0, \"State = 0\")\n",
    "run_cycle()\n",
    "\n",
    "testIt(read_reg(STATE_REG_OFFSET) == 1, \"State = 1\") # se ha ejecutado el estado 0\n",
    "testIt(read_reg(NEXT_STATE_REG_OFFSET) == 15, \"Next state = 15\")\n",
    "testIt(read_reg(PC_REG_OFFSET) == 1, \"PC = 1\")\n",
    "testIt(read_reg(RI_REG_OFFSET) == mem_bytes[0], \"RI = 0x64\")\n",
    "###\n",
    "\n",
    "###\n",
    "run_cycle()\n",
    "\n",
    "testIt(read_reg(STATE_REG_OFFSET) == 15, \"State = 15\") # se ha ejecutado el estado 1\n",
    "testIt(read_reg(NEXT_STATE_REG_OFFSET) == 39, \"Next state = 39\")\n",
    "testIt(read_reg(PC_REG_OFFSET) == 1, \"PC = 1\")\n",
    "###\n",
    "\n",
    "###\n",
    "run_cycle()\n",
    "\n",
    "testIt(read_reg(STATE_REG_OFFSET) == 39, \"State = 39\") # se ha ejecutado el estado 15\n",
    "testIt(read_reg(NEXT_STATE_REG_OFFSET) == 0, \"Next state = 0\")\n",
    "testIt(read_reg(PC_REG_OFFSET) == 2, \"PC = 2\")\n",
    "testIt(read_reg(OP2_REG_OFFSET) == mem_bytes[1], \"2OP = 0xFA\")\n",
    "###\n",
    "\n",
    "###\n",
    "run_cycle()\n",
    "\n",
    "rb_value = read_reg(RB_REG_OFFSET)\n",
    "\n",
    "testIt(read_reg(STATE_REG_OFFSET) == 0, \"State = 0\") # se ha ejecutado el estado 39\n",
    "testIt(rb_value == mem_bytes[1], \"RB = 0xFA\")\n",
    "###\n",
    "##################################### using the loaded RB\n",
    "print()\n",
    "\n",
    "print(\"Test MOV RB, RD\")\n",
    "\n",
    "reset(with_control=True)\n",
    "\n",
    "mem_bytes = [0x08]\n",
    "offset_to_write = 0x0000\n",
    "\n",
    "for i in range(len(mem_bytes)):\n",
    "    write_to_mem(offset_to_write + i, mem_bytes[i])\n",
    "    testIt(read_mem(offset_to_write + i) == mem_bytes[i], f\"Wrote {hex(mem_bytes[i])} to address {hex(offset_to_write + i)}\") # realmente ya esta testeado, no deberia hacer falta\n",
    "\n",
    "# set PC to 0\n",
    "set_pc(0)\n",
    "\n",
    "reset(with_control=False)\n",
    "skip_cycles(until_state=0)\n",
    "\n",
    "###\n",
    "testIt(read_reg(STATE_REG_OFFSET) == 0, \"State = 0\")\n",
    "run_cycle()\n",
    "\n",
    "testIt(read_reg(STATE_REG_OFFSET) == 1, \"State = 1\") # se ha ejecutado el estado 0\n",
    "testIt(read_reg(NEXT_STATE_REG_OFFSET) == 2, \"Next state = 2\")\n",
    "testIt(read_reg(PC_REG_OFFSET) == 1, \"PC = 1\")\n",
    "testIt(read_reg(RI_REG_OFFSET) == mem_bytes[0], \"RI = 0x64\")\n",
    "###\n",
    "\n",
    "###\n",
    "run_cycle()\n",
    "\n",
    "testIt(read_reg(STATE_REG_OFFSET) == 2, \"State = 2\") # se ha ejecutado el estado 1\n",
    "testIt(read_reg(NEXT_STATE_REG_OFFSET) == 3, \"Next state = 3\")\n",
    "testIt(read_reg(PC_REG_OFFSET) == 1, \"PC = 1\")\n",
    "###\n",
    "\n",
    "###\n",
    "run_cycle()\n",
    "\n",
    "testIt(read_reg(STATE_REG_OFFSET) == 3, \"State = 3\") # se ha ejecutado el estado 2\n",
    "testIt(read_reg(NEXT_STATE_REG_OFFSET) == 0, \"Next state = 0\")\n",
    "testIt(read_reg(PC_REG_OFFSET) == 1, \"PC = 1\")\n",
    "testIt(read_reg(OP2_REG_OFFSET) == rb_value, f\"2OP = RB ({hex(rb_value)})\")\n",
    "###\n",
    "\n",
    "###\n",
    "run_cycle()\n",
    "testIt(read_reg(STATE_REG_OFFSET) == 0, \"State = 0\") # se ha ejecutado el estado 3\n",
    "testIt(read_reg(RD_REG_OFFSET) == rb_value, f\"RD = RB ({hex(rb_value)})\")\n",
    "###"
   ]
  },
  {
   "cell_type": "code",
   "execution_count": 65,
   "id": "95f8afe1",
   "metadata": {},
   "outputs": [
    {
     "name": "stdout",
     "output_type": "stream",
     "text": [
      "Program: Sum AC until AC = 5\n",
      "  - Wrote 0x64 to address 0x0: ✅\n",
      "  - Wrote 0x0 to address 0x1: ✅\n",
      "  - Wrote 0x4b to address 0x2: ✅\n",
      "  - Wrote 0x67 to address 0x3: ✅\n",
      "  - Wrote 0x5 to address 0x4: ✅\n",
      "  - Wrote 0x72 to address 0x5: ✅\n",
      "  - Wrote 0x0 to address 0x6: ✅\n",
      "  - Wrote 0xb to address 0x7: ✅\n",
      "  - Wrote 0x74 to address 0x8: ✅\n",
      "  - Wrote 0x0 to address 0x9: ✅\n",
      "  - Wrote 0x2 to address 0xa: ✅\n",
      "  - Wrote 0xff to address 0xb: ✅\n",
      "Executed in 19.836902618408203 milliseconds\n",
      "  - AC = 5: ✅\n"
     ]
    }
   ],
   "source": [
    "print(\"Program: Sum AC until AC = 5\")\n",
    "load_program([0x64, 0x00, 0x4B, 0x67, 0x05, 0x72, 0x00, 0x0B, 0x74, 0x00, 0x02, 0xFF])\n",
    "\n",
    "execute_program()\n",
    "testIt(read_reg(ACUM_REG_OFFSET) == 0x5, \"AC = 5\")"
   ]
  },
  {
   "cell_type": "code",
   "execution_count": 66,
   "id": "105c5186",
   "metadata": {},
   "outputs": [
    {
     "name": "stdout",
     "output_type": "stream",
     "text": [
      "Program: 0x5 * 0x3\n",
      "  - Wrote 0x60 to address 0x0: ✅\n",
      "  - Wrote 0x5 to address 0x1: ✅\n",
      "  - Wrote 0x61 to address 0x2: ✅\n",
      "  - Wrote 0x3 to address 0x3: ✅\n",
      "  - Wrote 0xc3 to address 0x4: ✅\n",
      "  - Wrote 0x12 to address 0x5: ✅\n",
      "  - Wrote 0x34 to address 0x6: ✅\n",
      "  - Wrote 0x10 to address 0x7: ✅\n",
      "  - Wrote 0xc1 to address 0x8: ✅\n",
      "  - Wrote 0x11 to address 0x9: ✅\n",
      "  - Wrote 0x67 to address 0xa: ✅\n",
      "  - Wrote 0x1 to address 0xb: ✅\n",
      "  - Wrote 0x72 to address 0xc: ✅\n",
      "  - Wrote 0x0 to address 0xd: ✅\n",
      "  - Wrote 0x19 to address 0xe: ✅\n",
      "  - Wrote 0xc2 to address 0xf: ✅\n",
      "  - Wrote 0x30 to address 0x10: ✅\n",
      "  - Wrote 0xc1 to address 0x11: ✅\n",
      "  - Wrote 0x11 to address 0x12: ✅\n",
      "  - Wrote 0x66 to address 0x13: ✅\n",
      "  - Wrote 0x1 to address 0x14: ✅\n",
      "  - Wrote 0x41 to address 0x15: ✅\n",
      "  - Wrote 0x74 to address 0x16: ✅\n",
      "  - Wrote 0x0 to address 0x17: ✅\n",
      "  - Wrote 0x9 to address 0x18: ✅\n",
      "  - Wrote 0xc2 to address 0x19: ✅\n",
      "  - Wrote 0xff to address 0x1a: ✅\n",
      "Executed in 28.964519500732422 milliseconds\n",
      "  - AC = 0xF (15): ✅\n"
     ]
    }
   ],
   "source": [
    "print(\"Program: 0x5 * 0x3\")\n",
    "load_program([\n",
    "    0x60, 0x05, 0x61, 0x03, 0xC3, 0x12, 0x34, 0x10, 0xC1, 0x11,\n",
    "    0x67, 0x01, 0x72, 0x00, 0x19, 0xC2, 0x30, 0xC1, 0x11, 0x66,\n",
    "    0x01, 0x41, 0x74, 0x00, 0x09, 0xC2, 0xFF\n",
    "])\n",
    "\n",
    "execute_program()\n",
    "testIt(read_reg(ACUM_REG_OFFSET) == 0xF, \"AC = 0xF (15)\")"
   ]
  },
  {
   "cell_type": "code",
   "execution_count": 67,
   "id": "862ea3ed",
   "metadata": {},
   "outputs": [
    {
     "name": "stdout",
     "output_type": "stream",
     "text": [
      "Program: INISP 0x0123\n",
      "  - Wrote 0xc3 to address 0x0: ✅\n",
      "  - Wrote 0x1 to address 0x1: ✅\n",
      "  - Wrote 0x23 to address 0x2: ✅\n",
      "  - Wrote 0xff to address 0x3: ✅\n",
      "Executed in 1.7240047454833984 milliseconds\n",
      "  - SP = 0x0123: ✅\n"
     ]
    }
   ],
   "source": [
    "print(\"Program: INISP 0x0123\")\n",
    "load_program([\n",
    "    0xC3, 0x01, 0x23, 0xFF\n",
    "])\n",
    "\n",
    "execute_program()\n",
    "testIt(read_reg(SP_REG_OFFSET) == 0x0123, \"SP = 0x0123\")"
   ]
  },
  {
   "cell_type": "code",
   "execution_count": 68,
   "id": "2786122d",
   "metadata": {},
   "outputs": [
    {
     "name": "stdout",
     "output_type": "stream",
     "text": [
      "Program: CALL function D = B + C\n",
      "  - Wrote 0xc3 to address 0x0: ✅\n",
      "  - Wrote 0x1 to address 0x1: ✅\n",
      "  - Wrote 0x23 to address 0x2: ✅\n",
      "  - Wrote 0x62 to address 0x3: ✅\n",
      "  - Wrote 0xff to address 0x4: ✅\n",
      "  - Wrote 0x63 to address 0x5: ✅\n",
      "  - Wrote 0xfa to address 0x6: ✅\n",
      "  - Wrote 0x64 to address 0x7: ✅\n",
      "  - Wrote 0x10 to address 0x8: ✅\n",
      "  - Wrote 0x90 to address 0x9: ✅\n",
      "  - Wrote 0x2f to address 0xa: ✅\n",
      "  - Wrote 0x64 to address 0xb: ✅\n",
      "  - Wrote 0x31 to address 0xc: ✅\n",
      "  - Wrote 0x90 to address 0xd: ✅\n",
      "  - Wrote 0x2f to address 0xe: ✅\n",
      "  - Wrote 0x64 to address 0xf: ✅\n",
      "  - Wrote 0x42 to address 0x10: ✅\n",
      "  - Wrote 0x90 to address 0x11: ✅\n",
      "  - Wrote 0x2f to address 0x12: ✅\n",
      "  - Wrote 0x64 to address 0x13: ✅\n",
      "  - Wrote 0xc5 to address 0x14: ✅\n",
      "  - Wrote 0x90 to address 0x15: ✅\n",
      "  - Wrote 0x60 to address 0x16: ✅\n",
      "  - Wrote 0x2 to address 0x17: ✅\n",
      "  - Wrote 0x61 to address 0x18: ✅\n",
      "  - Wrote 0x2 to address 0x19: ✅\n",
      "  - Wrote 0xc4 to address 0x1a: ✅\n",
      "  - Wrote 0xff to address 0x1b: ✅\n",
      "  - Wrote 0xfa to address 0x1c: ✅\n",
      "  - Wrote 0xff to address 0x1d: ✅\n",
      "Executed in 22.18914031982422 milliseconds\n",
      "  - D = 0x4: ✅\n"
     ]
    }
   ],
   "source": [
    "print(\"Program: CALL function D = B + C\")\n",
    "load_program([\n",
    "    0xC3, 0x01, 0x23, 0x62, 0xFF, 0x63, 0xFA, 0x64, 0x10, 0x90,\n",
    "    0x2F, 0x64, 0x31, 0x90, 0x2F, 0x64, 0x42, 0x90, 0x2F, 0x64,\n",
    "    0xC5, 0x90, 0x60, 0x02, 0x61, 0x02, 0xC4, 0xFF, 0xFA, 0xFF\n",
    "])\n",
    "\n",
    "execute_program()\n",
    "testIt(read_reg(RD_REG_OFFSET) == read_reg(RB_REG_OFFSET)+read_reg(RC_REG_OFFSET), \"D = 0x4\")"
   ]
  },
  {
   "cell_type": "code",
   "execution_count": 71,
   "id": "3249915d",
   "metadata": {},
   "outputs": [
    {
     "name": "stdout",
     "output_type": "stream",
     "text": [
      "Program: Search in buffer for 0x05\n",
      "  - Wrote 0x62 to address 0x0: ✅\n",
      "  - Wrote 0x1 to address 0x1: ✅\n",
      "  - Wrote 0x63 to address 0x2: ✅\n",
      "  - Wrote 0x2 to address 0x3: ✅\n",
      "  - Wrote 0x64 to address 0x4: ✅\n",
      "  - Wrote 0x5 to address 0x5: ✅\n",
      "  - Wrote 0x90 to address 0x6: ✅\n",
      "  - Wrote 0x62 to address 0x7: ✅\n",
      "  - Wrote 0x0 to address 0x8: ✅\n",
      "  - Wrote 0x63 to address 0x9: ✅\n",
      "  - Wrote 0xfe to address 0xa: ✅\n",
      "  - Wrote 0xb0 to address 0xb: ✅\n",
      "  - Wrote 0x67 to address 0xc: ✅\n",
      "  - Wrote 0x5 to address 0xd: ✅\n",
      "  - Wrote 0x72 to address 0xe: ✅\n",
      "  - Wrote 0x0 to address 0xf: ✅\n",
      "  - Wrote 0x1f to address 0x10: ✅\n",
      "  - Wrote 0x13 to address 0x11: ✅\n",
      "  - Wrote 0x67 to address 0x12: ✅\n",
      "  - Wrote 0xff to address 0x13: ✅\n",
      "  - Wrote 0x72 to address 0x14: ✅\n",
      "  - Wrote 0x0 to address 0x15: ✅\n",
      "  - Wrote 0x1a to address 0x16: ✅\n",
      "  - Wrote 0x74 to address 0x17: ✅\n",
      "  - Wrote 0x0 to address 0x18: ✅\n",
      "  - Wrote 0x1b to address 0x19: ✅\n",
      "  - Wrote 0x2e to address 0x1a: ✅\n",
      "  - Wrote 0x2f to address 0x1b: ✅\n",
      "  - Wrote 0x74 to address 0x1c: ✅\n",
      "  - Wrote 0x0 to address 0x1d: ✅\n",
      "  - Wrote 0xb to address 0x1e: ✅\n",
      "  - Wrote 0xff to address 0x1f: ✅\n",
      "Executed in 46.67353630065918 milliseconds\n",
      "  - D = 0x01: ✅\n",
      "  - E = 0x02: ✅\n"
     ]
    }
   ],
   "source": [
    "print(\"Program: Search in buffer for 0x05\")\n",
    "load_program([\n",
    "    0x62, 0x01, 0x63, 0x02, 0x64, 0x05, 0x90, 0x62, 0x00, 0x63,\n",
    "    0xFE, 0xB0, 0x67, 0x05, 0x72, 0x00, 0x1F, 0x13, 0x67, 0xFF,\n",
    "    0x72, 0x00, 0x1A, 0x74, 0x00, 0x1B, 0x2E, 0x2F, 0x74, 0x00,\n",
    "    0x0B, 0xFF\n",
    "])\n",
    "\n",
    "execute_program()\n",
    "testIt(read_reg(RD_REG_OFFSET) == 0x01, \"D = 0x01\")\n",
    "testIt(read_reg(RE_REG_OFFSET) == 0x02, \"E = 0x02\")"
   ]
  },
  {
   "cell_type": "code",
   "execution_count": null,
   "id": "c8703b91",
   "metadata": {},
   "outputs": [],
   "source": []
  }
 ],
 "metadata": {
  "extensions": {
   "jupyter_dashboards": {
    "activeView": "default_view",
    "version": 1,
    "views": {
     "default_view": {
      "cellMargin": 10,
      "defaultCellHeight": 40,
      "maxColumns": 12,
      "name": "active_view",
      "type": "grid"
     }
    }
   }
  },
  "kernelspec": {
   "display_name": "Python 3 (ipykernel)",
   "language": "python",
   "name": "python3"
  },
  "language_info": {
   "codemirror_mode": {
    "name": "ipython",
    "version": 3
   },
   "file_extension": ".py",
   "mimetype": "text/x-python",
   "name": "python",
   "nbconvert_exporter": "python",
   "pygments_lexer": "ipython3",
   "version": "3.10.4"
  }
 },
 "nbformat": 4,
 "nbformat_minor": 5
}
